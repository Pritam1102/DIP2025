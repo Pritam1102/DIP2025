{
 "cells": [
  {
   "cell_type": "code",
   "execution_count": null,
   "id": "5c545327",
   "metadata": {},
   "outputs": [],
   "source": [
    "import numpy as np\n",
    "import matplotlib.pyplot as plt\n",
    "from pathlib import Path\n",
    "from PIL import Image"
   ]
  },
  {
   "cell_type": "code",
   "execution_count": 6,
   "id": "2ac62cac",
   "metadata": {},
   "outputs": [
    {
     "name": "stdout",
     "output_type": "stream",
     "text": [
      "Loaded image: flowers.png\n",
      "Loaded image: moon_noisy.png\n",
      "Loaded image: sharp.png\n",
      "Loaded image: study.png\n",
      "\n",
      "Successfully loaded 4 images.\n"
     ]
    }
   ],
   "source": [
    "image_folder_path = Path('DIP2025\\\\Assignment2\\\\images')\n",
    "all_images = []\n",
    "for image_path in image_folder_path.glob('*'):\n",
    "    if image_path.is_file():\n",
    "        try:\n",
    "            with Image.open(image_path) as img:\n",
    "                all_images.append(img.copy())\n",
    "            print(f\"Loaded image: {image_path.name}\")\n",
    "        except IOError:\n",
    "            print(f\"Could not load image: {image_path.name}\")\n",
    "print(f\"\\nSuccessfully loaded {len(all_images)} images.\")\n"
   ]
  },
  {
   "cell_type": "code",
   "execution_count": 7,
   "id": "448a2ffd",
   "metadata": {},
   "outputs": [],
   "source": [
    "flowers, moon_noisy, sharp, study = all_images"
   ]
  },
  {
   "cell_type": "code",
   "execution_count": null,
   "id": "2bb54b75",
   "metadata": {},
   "outputs": [],
   "source": []
  },
  {
   "cell_type": "code",
   "execution_count": null,
   "id": "f5495690",
   "metadata": {},
   "outputs": [],
   "source": []
  }
 ],
 "metadata": {
  "kernelspec": {
   "display_name": "base",
   "language": "python",
   "name": "python3"
  },
  "language_info": {
   "codemirror_mode": {
    "name": "ipython",
    "version": 3
   },
   "file_extension": ".py",
   "mimetype": "text/x-python",
   "name": "python",
   "nbconvert_exporter": "python",
   "pygments_lexer": "ipython3",
   "version": "3.13.5"
  }
 },
 "nbformat": 4,
 "nbformat_minor": 5
}
